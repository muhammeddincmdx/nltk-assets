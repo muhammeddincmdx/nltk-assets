{
 "cells": [
  {
   "cell_type": "code",
   "execution_count": 1,
   "id": "37a28381-edbf-4383-920a-f90311894f8b",
   "metadata": {},
   "outputs": [],
   "source": [
    "import nltk\n",
    "from nltk.corpus import stopwords\n",
    "from nltk.sentiment import SentimentIntensityAnalyzer\n",
    "from nltk.tokenize import word_tokenize\n",
    "from nltk.stem import WordNetLemmatizer\n",
    "from sklearn.feature_extraction.text import TfidfVectorizer\n",
    "from sklearn.model_selection import train_test_split\n",
    "from sklearn.metrics import classification_report\n",
    "from sklearn.svm import SVC"
   ]
  },
  {
   "cell_type": "code",
   "execution_count": 2,
   "id": "a8529e37-8259-4395-a72a-3cfadfc7fc1e",
   "metadata": {},
   "outputs": [
    {
     "name": "stderr",
     "output_type": "stream",
     "text": [
      "[nltk_data] Downloading package vader_lexicon to\n",
      "[nltk_data]     C:\\Users\\Lenovo\\AppData\\Roaming\\nltk_data...\n",
      "[nltk_data]   Package vader_lexicon is already up-to-date!\n",
      "[nltk_data] Downloading package stopwords to\n",
      "[nltk_data]     C:\\Users\\Lenovo\\AppData\\Roaming\\nltk_data...\n",
      "[nltk_data]   Package stopwords is already up-to-date!\n",
      "[nltk_data] Downloading package wordnet to\n",
      "[nltk_data]     C:\\Users\\Lenovo\\AppData\\Roaming\\nltk_data...\n",
      "[nltk_data]   Package wordnet is already up-to-date!\n"
     ]
    },
    {
     "data": {
      "text/plain": [
       "True"
      ]
     },
     "execution_count": 2,
     "metadata": {},
     "output_type": "execute_result"
    }
   ],
   "source": [
    "#download necessary nltkk resources\n",
    "nltk.download(\"vader_lexicon\")\n",
    "nltk.download(\"stopwords\")\n",
    "nltk.download(\"wordnet\")"
   ]
  },
  {
   "cell_type": "code",
   "execution_count": 3,
   "id": "252aef1f-8615-4e5c-ba14-e3dc5dc7e919",
   "metadata": {},
   "outputs": [],
   "source": [
    "#data tweet, label\n",
    "labeled_data = [\n",
    "    (\"I love this product. It has exceeded my expectations in every way. The quality is outstanding, and it's incredibly user-friendly. I can't imagine my life without it now.\", \"positive\"),\n",
    "    (\"This product is terrible. I regret purchasing it. The quality is subpar and it broke within a week. I wouldn't recommend it to anyone.\", \"negative\"),\n",
    "    (\"The quality could be better. While the product has some good features, there's definitely room for improvement. I'm on the fence about whether I'd buy it again.\", \"neutral\"),\n",
    "    (\"I'm absolutely thrilled with this product. It has transformed how I do things on a daily basis. The innovative design sets it apart from the competition.\", \"positive\"),\n",
    "    (\"Don't waste your money on this. I had high hopes, but it turned out to be a disappointment. The functionality is limited, and it feels cheaply made.\", \"negative\"),\n",
    "    (\"It's an okay product. Nothing too impressive, but it gets the job done. I wish it had more advanced features though.\", \"neutral\"),\n",
    "    (\"From the moment I started using this product, I fell in love. The attention to detail is evident, and it's clear that the creators put a lot of thought into it. A definite win!\", \"positive\"),\n",
    "    (\"This has been a frustrating experience. The product arrived late, and it didn't work as described. I'm seriously considering returning it for a refund.\", \"negative\"),\n",
    "    (\"I'm not entirely sure how I feel about this product. On one hand, it has some cool aspects, but on the other hand, it has some flaws that are hard to ignore.\", \"neutral\"),\n",
    "    (\"I can't get enough of this product. It simplifies my life and saves me so much time. I can tell that the developers really understand the users' needs.\", \"positive\"),\n",
    "    (\"What a waste of money. I had high expectations, but they were crushed. The product feels outdated, and the customer support is unresponsive.\", \"negative\"),\n",
    "    (\"It's a decent product, but it lacks that wow factor. The quality is decent, and it's fairly reliable, but I was hoping for more.\", \"neutral\"),\n",
    "    (\"This product is a game changer! It has exceeded my wildest expectations. The features it offers are unparalleled, and it's worth every penny.\", \"positive\"),\n",
    "    (\"I'm extremely disappointed in this product. It arrived damaged, and the performance is far from what was advertised. I won't be recommending this to anyone.\", \"negative\"),\n",
    "    (\"I'm still on the fence about this product. There are aspects that I like, but there are also some significant drawbacks. I'm not sure if it's the right fit for me.\", \"neutral\"),\n",
    "    (\"I can't express how much I adore this product. It has genuinely made my life so much easier. I rave about it to all my friends and family.\", \"positive\"),\n",
    "    (\"Honestly, I expected much more from this product. It falls short in many areas, and the quality is just not up to par. I wouldn't buy it again.\", \"negative\"),\n",
    "    (\"It's a product with potential, but it's not quite there. The concept is interesting, but the execution could be better. I'm cautiously optimistic about its future updates.\", \"neutral\"),\n",
    "    (\"This product is a must-have! I'm blown away by how well it works. It's evident that the company put a lot of research and effort into creating a top-tier product.\", \"positive\"),\n",
    "    (\"I'm really dissatisfied with this product. It promised a lot, but it didn't deliver. The performance is lackluster, and I'm considering returning it.\", \"negative\"),\n",
    "    (\"I'm still trying to make up my mind about this product. It has its merits, but it also has its drawbacks. I'll need more time to decide how I truly feel.\", \"neutral\"),\n",
    "    (\"Wow, this service is fantastic! The support team was so helpful and the features are top-notch. I'm a very satisfied customer.\", \"positive\"),\n",
    "    (\"I'm really disappointed in this service. It promised a lot, but the performance is lackluster and the interface is confusing. Definitely not worth the price.\", \"negative\"),\n",
    "    (\"The functionality of this app is decent, but the user interface could use some improvement. I'm still exploring its features to see if it meets my needs.\", \"neutral\"),\n",
    "    (\"I can't believe how fast the shipping was for this product. It arrived in perfect condition and the packaging was great. I'm impressed!\", \"positive\"),\n",
    "    (\"Don't waste your money on this product. It's a total rip-off. The description doesn't match what you actually get. I'm very unsatisfied.\", \"negative\"),\n",
    "    (\"I've been using this software for a while now. It's reliable and gets the job done. However, there are a few glitches that can be annoying.\", \"neutral\"),\n",
    "    (\"The customer service was a delight to work with. They went above and beyond to solve my issue and made me feel valued as a customer. Highly recommended!\", \"positive\"),\n",
    "    (\"I had high hopes for this gadget, but it's just average. It functions alright, but there's nothing special about it. I'm a bit underwhelmed.\", \"neutral\"),\n",
    "    (\"This restaurant exceeded my expectations. The food was amazing, the atmosphere was cozy, and the service was impeccable. I'll definitely be coming back!\", \"positive\"),\n",
    "    (\"What a waste of time using this website. It's clunky and slow, and I can never find what I'm looking for. I'm frustrated and won't be using it again.\", \"negative\"),\n",
    "    (\"I'm still on the fence about this subscription box. The items in the first shipment were okay, but I'm not sure if it's worth the monthly cost.\", \"neutral\"),\n",
    "    (\"This book is a masterpiece. The storytelling is captivating, and I couldn't put it down until I finished. A must-read for any fiction lover!\", \"positive\"),\n",
    "    (\"I encountered so many bugs while using this software. It constantly crashes and I lost a lot of unsaved work. This has been a frustrating experience.\", \"negative\"),\n",
    "    (\"The build quality of this product is solid. It feels sturdy and durable, like it's going to last a long time. I'm very impressed.\", \"positive\"),\n",
    "    (\"I had such high expectations for this movie, but it fell short. The plot was confusing and the characters felt one-dimensional. I'm disappointed.\", \"negative\"),\n",
    "    (\"The user interface of this app is intuitive and clean. I was able to navigate it easily without any confusion. A well-designed application.\", \"positive\"),\n",
    "    (\"I've been using this skincare product for a week now, and I can already see a noticeable difference in my skin. It's smoother and more radiant. I'm thrilled!\", \"positive\"),\n",
    "    (\"Stay away from this company's customer support. I had an issue with my order and they were unresponsive and unhelpful. Terrible experience.\", \"negative\"),\n",
    "    (\"I'm pleasantly surprised by this app. It offers a wide range of features that I didn't expect to find. It's definitely worth the download.\", \"positive\"),\n",
    "    (\"The sound quality of these headphones is subpar. The bass is muddy and the highs are distorted. I'm considering returning them.\", \"negative\"),\n",
    "    (\"I purchased this product with low expectations, but it actually turned out to be quite useful. It's a good value for the price.\", \"positive\"),\n",
    "    (\"I'm a bit conflicted about this game. The graphics are stunning, but the gameplay is repetitive. I'm not sure if I'll keep playing.\", \"neutral\"),\n",
    "    (\"This clothing brand never disappoints. The fabric, stitching, and overall design of their clothes are consistently excellent. A brand I trust.\", \"positive\"),\n",
    "    (\"Total waste of money. I ordered this gadget online and it arrived broken. The company's return process is a nightmare too. Frustrating experience.\", \"negative\"),\n",
    "    (\"I'm still getting the hang of using this software. It has a steep learning curve, but I can see its potential once I master it.\", \"neutral\"),\n",
    "    (\"I'm in love with this new restaurant. The fusion of flavors in their dishes is an adventure for the taste buds. Can't wait to go back!\", \"positive\"),\n",
    "    (\"The battery life of this smartphone is disappointing. I have to charge it multiple times a day, even with minimal usage. Not practical at all.\", \"negative\"),\n",
    "    (\"I'm thoroughly impressed by the performance of this vacuum cleaner. It picks up dirt and pet hair effortlessly, making cleaning a breeze.\", \"positive\"),\n",
    "    (\"The movie had an intriguing premise, but it fell apart in the second half. The plot twists were forced and it left me unsatisfied. Not recommended.\", \"negative\"),\n",
    "    (\"This fitness tracker helps me stay motivated. Seeing my daily progress has encouraged me to be more active. A great addition to my routine.\", \"positive\"),\n",
    "    (\"The build quality of this toy is disappointing. It feels cheap and flimsy, and I'm worried it won't last long. Not what I was expecting.\", \"negative\"),\n",
    "    (\"I'm on the fence about this e-book. The content is interesting, but the formatting is off, making it hard to read on some devices.\", \"neutral\"),\n",
    "    (\"I can't believe how fast this website's interface is. It loads instantly and navigating through the pages is smooth. Impressive work!\", \"positive\"),\n",
    "    (\"I regret upgrading to the premium version of this app. The additional features are underwhelming and not worth the extra cost. Disappointing.\", \"negative\"),\n",
    "    (\"I have mixed feelings about this product. The design is sleek, but I've experienced some technical issues that are frustrating. Needs improvement.\", \"neutral\"),\n",
    "    (\"The customer service of this online store is exceptional. They resolved my issue quickly and were very polite throughout the process. Highly recommended!\", \"positive\"),\n",
    "    (\"I was excited to try out this recipe, but it turned out to be a disaster. The instructions were unclear, and the dish was inedible. Waste of ingredients.\", \"negative\"),\n",
    "    (\"This software has saved me so much time and effort. The automation features are a game-changer for my work. I'm extremely satisfied.\", \"positive\"),\n",
    "    (\"I'm on the fence about recommending this book. The story is engaging, but the writing style doesn't resonate with me. It might be a hit for others.\", \"neutral\"),\n",
    "    (\"The sound quality of these speakers blew me away. The bass is deep, and the vocals are crystal clear. I'm enjoying my music like never before!\", \"positive\"),\n",
    "    (\"Don't bother with this restaurant. The food was bland, and the service was slow. I won't be dining here again. Disappointed.\", \"negative\"),\n",
    "    (\"I'm impressed by the variety of features in this productivity app. It has helped me stay organized and on top of my tasks. A valuable tool.\", \"positive\"),\n",
    "    (\"This car rental service is a nightmare. The vehicle I received was dirty and had maintenance issues. They ruined my trip. Avoid at all costs.\", \"negative\"),\n",
    "    (\"I'm amazed by the attention to detail in this video game. The world-building and character development are outstanding. A true masterpiece.\", \"positive\"),\n",
    "    (\"I had high hopes for this fitness equipment, but it's not living up to expectations. The resistance levels are inconsistent, making workouts frustrating.\", \"negative\"),\n",
    "    (\"This movie is a hidden gem. The plot is unique, and the actors delivered exceptional performances. A must-watch for cinephiles.\", \"positive\"),\n",
    "    (\"The packaging of this product was excessive and wasteful. It's disappointing to see such disregard for the environment. Needs more sustainable options.\", \"negative\"),\n",
    "    (\"I'm still undecided about this subscription service. The initial box was great, but the subsequent ones have been hit or miss. Jury's still out.\", \"neutral\")\n",
    "\n",
    "]"
   ]
  },
  {
   "cell_type": "code",
   "execution_count": 4,
   "id": "a88db6aa-c3c2-4c9e-9225-146c6543c630",
   "metadata": {},
   "outputs": [],
   "source": [
    "stop_words = set(stopwords.words(\"english\"))\n",
    "lemmatizer = WordNetLemmatizer()\n"
   ]
  },
  {
   "cell_type": "code",
   "execution_count": 5,
   "id": "7294d7de-5dc0-491d-8608-eb53d3616d39",
   "metadata": {},
   "outputs": [],
   "source": [
    "preprocessed_data = []\n",
    "labels = []"
   ]
  },
  {
   "cell_type": "code",
   "execution_count": 6,
   "id": "d1a321d8-cecc-41f0-a46f-31c052955d7e",
   "metadata": {},
   "outputs": [],
   "source": [
    "for tweet, label in labeled_data:\n",
    "    tokens = word_tokenize(tweet.lower())\n",
    "    filtered_tokens = [token for token in tokens if token not in stop_words]\n",
    "    lemmatized_tokens = [lemmatizer.lemmatize(token) for token in filtered_tokens]\n",
    "    preprocessed_tweet = \" \".join(lemmatized_tokens)\n",
    "    \n",
    "    preprocessed_data.append(preprocessed_tweet)\n",
    "    labels.append(label)"
   ]
  },
  {
   "cell_type": "code",
   "execution_count": 7,
   "id": "dcd8aa22-292c-4823-8759-c2fcf70d752d",
   "metadata": {},
   "outputs": [],
   "source": [
    "#Split the preprocessed data into training and testing sets\n",
    "X_train, X_test, y_train, y_test = train_test_split(preprocessed_data,labels,test_size = 0.2,random_state = 42)"
   ]
  },
  {
   "cell_type": "code",
   "execution_count": 8,
   "id": "4961730f-6bf6-46a9-9283-0694a666656b",
   "metadata": {},
   "outputs": [],
   "source": [
    "# Vectorize the preprocessed data using TF-IDF\n",
    "vectorizer = TfidfVectorizer()\n",
    "X_train_vectors = vectorizer.fit_transform(X_train)\n",
    "X_test_vectors = vectorizer.transform(X_test)"
   ]
  },
  {
   "cell_type": "code",
   "execution_count": 9,
   "id": "9635038b-083d-4702-a649-0b0311b5ccbd",
   "metadata": {},
   "outputs": [
    {
     "data": {
      "text/html": [
       "<style>#sk-container-id-1 {color: black;background-color: white;}#sk-container-id-1 pre{padding: 0;}#sk-container-id-1 div.sk-toggleable {background-color: white;}#sk-container-id-1 label.sk-toggleable__label {cursor: pointer;display: block;width: 100%;margin-bottom: 0;padding: 0.3em;box-sizing: border-box;text-align: center;}#sk-container-id-1 label.sk-toggleable__label-arrow:before {content: \"▸\";float: left;margin-right: 0.25em;color: #696969;}#sk-container-id-1 label.sk-toggleable__label-arrow:hover:before {color: black;}#sk-container-id-1 div.sk-estimator:hover label.sk-toggleable__label-arrow:before {color: black;}#sk-container-id-1 div.sk-toggleable__content {max-height: 0;max-width: 0;overflow: hidden;text-align: left;background-color: #f0f8ff;}#sk-container-id-1 div.sk-toggleable__content pre {margin: 0.2em;color: black;border-radius: 0.25em;background-color: #f0f8ff;}#sk-container-id-1 input.sk-toggleable__control:checked~div.sk-toggleable__content {max-height: 200px;max-width: 100%;overflow: auto;}#sk-container-id-1 input.sk-toggleable__control:checked~label.sk-toggleable__label-arrow:before {content: \"▾\";}#sk-container-id-1 div.sk-estimator input.sk-toggleable__control:checked~label.sk-toggleable__label {background-color: #d4ebff;}#sk-container-id-1 div.sk-label input.sk-toggleable__control:checked~label.sk-toggleable__label {background-color: #d4ebff;}#sk-container-id-1 input.sk-hidden--visually {border: 0;clip: rect(1px 1px 1px 1px);clip: rect(1px, 1px, 1px, 1px);height: 1px;margin: -1px;overflow: hidden;padding: 0;position: absolute;width: 1px;}#sk-container-id-1 div.sk-estimator {font-family: monospace;background-color: #f0f8ff;border: 1px dotted black;border-radius: 0.25em;box-sizing: border-box;margin-bottom: 0.5em;}#sk-container-id-1 div.sk-estimator:hover {background-color: #d4ebff;}#sk-container-id-1 div.sk-parallel-item::after {content: \"\";width: 100%;border-bottom: 1px solid gray;flex-grow: 1;}#sk-container-id-1 div.sk-label:hover label.sk-toggleable__label {background-color: #d4ebff;}#sk-container-id-1 div.sk-serial::before {content: \"\";position: absolute;border-left: 1px solid gray;box-sizing: border-box;top: 0;bottom: 0;left: 50%;z-index: 0;}#sk-container-id-1 div.sk-serial {display: flex;flex-direction: column;align-items: center;background-color: white;padding-right: 0.2em;padding-left: 0.2em;position: relative;}#sk-container-id-1 div.sk-item {position: relative;z-index: 1;}#sk-container-id-1 div.sk-parallel {display: flex;align-items: stretch;justify-content: center;background-color: white;position: relative;}#sk-container-id-1 div.sk-item::before, #sk-container-id-1 div.sk-parallel-item::before {content: \"\";position: absolute;border-left: 1px solid gray;box-sizing: border-box;top: 0;bottom: 0;left: 50%;z-index: -1;}#sk-container-id-1 div.sk-parallel-item {display: flex;flex-direction: column;z-index: 1;position: relative;background-color: white;}#sk-container-id-1 div.sk-parallel-item:first-child::after {align-self: flex-end;width: 50%;}#sk-container-id-1 div.sk-parallel-item:last-child::after {align-self: flex-start;width: 50%;}#sk-container-id-1 div.sk-parallel-item:only-child::after {width: 0;}#sk-container-id-1 div.sk-dashed-wrapped {border: 1px dashed gray;margin: 0 0.4em 0.5em 0.4em;box-sizing: border-box;padding-bottom: 0.4em;background-color: white;}#sk-container-id-1 div.sk-label label {font-family: monospace;font-weight: bold;display: inline-block;line-height: 1.2em;}#sk-container-id-1 div.sk-label-container {text-align: center;}#sk-container-id-1 div.sk-container {/* jupyter's `normalize.less` sets `[hidden] { display: none; }` but bootstrap.min.css set `[hidden] { display: none !important; }` so we also need the `!important` here to be able to override the default hidden behavior on the sphinx rendered scikit-learn.org. See: https://github.com/scikit-learn/scikit-learn/issues/21755 */display: inline-block !important;position: relative;}#sk-container-id-1 div.sk-text-repr-fallback {display: none;}</style><div id=\"sk-container-id-1\" class=\"sk-top-container\"><div class=\"sk-text-repr-fallback\"><pre>SVC(kernel=&#x27;linear&#x27;)</pre><b>In a Jupyter environment, please rerun this cell to show the HTML representation or trust the notebook. <br />On GitHub, the HTML representation is unable to render, please try loading this page with nbviewer.org.</b></div><div class=\"sk-container\" hidden><div class=\"sk-item\"><div class=\"sk-estimator sk-toggleable\"><input class=\"sk-toggleable__control sk-hidden--visually\" id=\"sk-estimator-id-1\" type=\"checkbox\" checked><label for=\"sk-estimator-id-1\" class=\"sk-toggleable__label sk-toggleable__label-arrow\">SVC</label><div class=\"sk-toggleable__content\"><pre>SVC(kernel=&#x27;linear&#x27;)</pre></div></div></div></div></div>"
      ],
      "text/plain": [
       "SVC(kernel='linear')"
      ]
     },
     "execution_count": 9,
     "metadata": {},
     "output_type": "execute_result"
    }
   ],
   "source": [
    "# Train a Support Vector Machine (SVM) classifier\n",
    "svm_classifier = SVC(kernel = \"linear\")\n",
    "svm_classifier.fit(X_train_vectors, y_train)"
   ]
  },
  {
   "cell_type": "code",
   "execution_count": 10,
   "id": "c5b2993d-c346-4ec6-b519-49bf3c788d18",
   "metadata": {},
   "outputs": [
    {
     "name": "stdout",
     "output_type": "stream",
     "text": [
      "Classification Report: \n",
      "              precision    recall  f1-score   support\n",
      "\n",
      "    negative       1.00      0.83      0.91         6\n",
      "     neutral       1.00      1.00      1.00         3\n",
      "    positive       0.83      1.00      0.91         5\n",
      "\n",
      "    accuracy                           0.93        14\n",
      "   macro avg       0.94      0.94      0.94        14\n",
      "weighted avg       0.94      0.93      0.93        14\n",
      "\n"
     ]
    }
   ],
   "source": [
    "# Evaluate the trained classifier on the testing set\n",
    "y_pred = svm_classifier.predict(X_test_vectors)\n",
    "classification_report = classification_report(y_test,y_pred)\n",
    "print(\"Classification Report: \")\n",
    "print(classification_report)"
   ]
  },
  {
   "cell_type": "code",
   "execution_count": 11,
   "id": "83123777-dbe9-4ca7-8725-42d0928646fd",
   "metadata": {},
   "outputs": [],
   "source": [
    "# Sentiment analysis of new, unseen tweet using Vader Sentiment analyzer\n",
    "unseen_tweets = [\n",
    "    \"This movie was so disappointing. I had high hopes, but it turned out to be a complete letdown.\",\n",
    "    \"Just tried the new restaurant in town and it was amazing! The food was delicious and the service was top-notch.\",\n",
    "    \"I can't believe how poorly made this product is. It broke after just a few uses.\",\n",
    "    \"I'm in love with the new skincare routine I started. My skin has never looked better!\",\n",
    "    \"The customer support of this company is a nightmare. They never respond and don't seem to care about their customers.\",\n",
    "    \"Attended the concert last night and it was an unforgettable experience. The energy of the crowd was electric!\",\n",
    "    \"I regret buying this gadget. It's not user-friendly at all and the instructions are confusing.\",\n",
    "    \"This book was a real page-turner. I couldn't put it down until I finished it!\",\n",
    "    \"The traffic during rush hour is unbearable. I can't stand being stuck in my car for hours every day.\",\n",
    "    \"I'm so impressed with the quality of the clothes from this brand. Definitely going to buy more!\",\n",
    "    \"The battery life on this new phone is abysmal. I have to charge it multiple times a day.\",\n",
    "    \"Spent the day at the amusement park and had a blast! The roller coasters were thrilling and the food was great.\",\n",
    "    \"I had such high expectations for this event, but it fell flat. The organization was chaotic and there were many issues.\",\n",
    "    \"Just watched the latest episode of my favorite TV show. It was so intense and left me eagerly waiting for the next one.\",\n",
    "    \"The build quality of this furniture is impressive. It feels sturdy and well-made.\",\n",
    "    \"I'm so frustrated with the constant software bugs on this app. It's practically unusable.\",\n",
    "    \"This hiking trail was a hidden gem. The views were breathtaking and the hike was challenging in a good way.\",\n",
    "    \"I ordered a dress online and it's nothing like the picture. The material is cheap and the sizing is way off.\",\n",
    "    \"The service at this cafe was terrible. The staff was rude and inattentive throughout my visit.\",\n",
    "    \"Just started learning a new instrument and it's been a struggle. Progress is slow, but I'm determined to improve.\",\n",
    "    \"The hotel stay was wonderful. The room was comfortable and the staff went above and beyond to make me feel welcome.\",\n",
    "    \"I can't believe how much money I wasted on this gym membership. I never have the motivation to go.\",\n",
    "    \"The new software update is fantastic. It brings a lot of new features that I've been looking forward to.\",\n",
    "    \"The customer service representative I spoke to was incredibly helpful and resolved my issue quickly.\",\n",
    "    \"This movie was a pleasant surprise. I didn't expect much, but it turned out to be quite entertaining.\",\n",
    "    \"The internet connection has been unreliable lately. It's frustrating when I'm trying to get work done.\"\n",
    "]\n"
   ]
  },
  {
   "cell_type": "code",
   "execution_count": 12,
   "id": "5439b767-df46-4a33-9987-5c83968f64a1",
   "metadata": {},
   "outputs": [
    {
     "name": "stdout",
     "output_type": "stream",
     "text": [
      "Tweet: This movie was so disappointing. I had high hopes, but it turned out to be a complete letdown.\n",
      "Sentiment Scores: {'neg': 0.139, 'neu': 0.758, 'pos': 0.103, 'compound': -0.1675}\n",
      "\n",
      "Tweet: Just tried the new restaurant in town and it was amazing! The food was delicious and the service was top-notch.\n",
      "Sentiment Scores: {'neg': 0.0, 'neu': 0.698, 'pos': 0.302, 'compound': 0.8313}\n",
      "\n",
      "Tweet: I can't believe how poorly made this product is. It broke after just a few uses.\n",
      "Sentiment Scores: {'neg': 0.177, 'neu': 0.823, 'pos': 0.0, 'compound': -0.4215}\n",
      "\n",
      "Tweet: I'm in love with the new skincare routine I started. My skin has never looked better!\n",
      "Sentiment Scores: {'neg': 0.121, 'neu': 0.653, 'pos': 0.226, 'compound': 0.4742}\n",
      "\n",
      "Tweet: The customer support of this company is a nightmare. They never respond and don't seem to care about their customers.\n",
      "Sentiment Scores: {'neg': 0.118, 'neu': 0.761, 'pos': 0.121, 'compound': 0.0186}\n",
      "\n",
      "Tweet: Attended the concert last night and it was an unforgettable experience. The energy of the crowd was electric!\n",
      "Sentiment Scores: {'neg': 0.0, 'neu': 0.877, 'pos': 0.123, 'compound': 0.3382}\n",
      "\n",
      "Tweet: I regret buying this gadget. It's not user-friendly at all and the instructions are confusing.\n",
      "Sentiment Scores: {'neg': 0.281, 'neu': 0.719, 'pos': 0.0, 'compound': -0.5719}\n",
      "\n",
      "Tweet: This book was a real page-turner. I couldn't put it down until I finished it!\n",
      "Sentiment Scores: {'neg': 0.0, 'neu': 1.0, 'pos': 0.0, 'compound': 0.0}\n",
      "\n",
      "Tweet: The traffic during rush hour is unbearable. I can't stand being stuck in my car for hours every day.\n",
      "Sentiment Scores: {'neg': 0.0, 'neu': 0.907, 'pos': 0.093, 'compound': 0.1877}\n",
      "\n",
      "Tweet: I'm so impressed with the quality of the clothes from this brand. Definitely going to buy more!\n",
      "Sentiment Scores: {'neg': 0.0, 'neu': 0.701, 'pos': 0.299, 'compound': 0.7495}\n",
      "\n",
      "Tweet: The battery life on this new phone is abysmal. I have to charge it multiple times a day.\n",
      "Sentiment Scores: {'neg': 0.0, 'neu': 1.0, 'pos': 0.0, 'compound': 0.0}\n",
      "\n",
      "Tweet: Spent the day at the amusement park and had a blast! The roller coasters were thrilling and the food was great.\n",
      "Sentiment Scores: {'neg': 0.0, 'neu': 0.63, 'pos': 0.37, 'compound': 0.8748}\n",
      "\n",
      "Tweet: I had such high expectations for this event, but it fell flat. The organization was chaotic and there were many issues.\n",
      "Sentiment Scores: {'neg': 0.185, 'neu': 0.815, 'pos': 0.0, 'compound': -0.6486}\n",
      "\n",
      "Tweet: Just watched the latest episode of my favorite TV show. It was so intense and left me eagerly waiting for the next one.\n",
      "Sentiment Scores: {'neg': 0.0, 'neu': 0.731, 'pos': 0.269, 'compound': 0.7462}\n",
      "\n",
      "Tweet: The build quality of this furniture is impressive. It feels sturdy and well-made.\n",
      "Sentiment Scores: {'neg': 0.0, 'neu': 0.784, 'pos': 0.216, 'compound': 0.5106}\n",
      "\n",
      "Tweet: I'm so frustrated with the constant software bugs on this app. It's practically unusable.\n",
      "Sentiment Scores: {'neg': 0.221, 'neu': 0.779, 'pos': 0.0, 'compound': -0.5709}\n",
      "\n",
      "Tweet: This hiking trail was a hidden gem. The views were breathtaking and the hike was challenging in a good way.\n",
      "Sentiment Scores: {'neg': 0.0, 'neu': 0.667, 'pos': 0.333, 'compound': 0.7579}\n",
      "\n",
      "Tweet: I ordered a dress online and it's nothing like the picture. The material is cheap and the sizing is way off.\n",
      "Sentiment Scores: {'neg': 0.105, 'neu': 0.895, 'pos': 0.0, 'compound': -0.2755}\n",
      "\n",
      "Tweet: The service at this cafe was terrible. The staff was rude and inattentive throughout my visit.\n",
      "Sentiment Scores: {'neg': 0.303, 'neu': 0.697, 'pos': 0.0, 'compound': -0.7269}\n",
      "\n",
      "Tweet: Just started learning a new instrument and it's been a struggle. Progress is slow, but I'm determined to improve.\n",
      "Sentiment Scores: {'neg': 0.07, 'neu': 0.553, 'pos': 0.377, 'compound': 0.802}\n",
      "\n",
      "Tweet: The hotel stay was wonderful. The room was comfortable and the staff went above and beyond to make me feel welcome.\n",
      "Sentiment Scores: {'neg': 0.0, 'neu': 0.643, 'pos': 0.357, 'compound': 0.875}\n",
      "\n",
      "Tweet: I can't believe how much money I wasted on this gym membership. I never have the motivation to go.\n",
      "Sentiment Scores: {'neg': 0.272, 'neu': 0.728, 'pos': 0.0, 'compound': -0.6412}\n",
      "\n",
      "Tweet: The new software update is fantastic. It brings a lot of new features that I've been looking forward to.\n",
      "Sentiment Scores: {'neg': 0.0, 'neu': 0.825, 'pos': 0.175, 'compound': 0.5574}\n",
      "\n",
      "Tweet: The customer service representative I spoke to was incredibly helpful and resolved my issue quickly.\n",
      "Sentiment Scores: {'neg': 0.0, 'neu': 0.704, 'pos': 0.296, 'compound': 0.6195}\n",
      "\n",
      "Tweet: This movie was a pleasant surprise. I didn't expect much, but it turned out to be quite entertaining.\n",
      "Sentiment Scores: {'neg': 0.0, 'neu': 0.619, 'pos': 0.381, 'compound': 0.7899}\n",
      "\n",
      "Tweet: The internet connection has been unreliable lately. It's frustrating when I'm trying to get work done.\n",
      "Sentiment Scores: {'neg': 0.162, 'neu': 0.838, 'pos': 0.0, 'compound': -0.4404}\n",
      "\n"
     ]
    }
   ],
   "source": [
    "analyzer = SentimentIntensityAnalyzer()\n",
    "for tweet in unseen_tweets:\n",
    "    sentiment_scores = analyzer.polarity_scores(tweet)\n",
    "    print(f\"Tweet: {tweet}\")\n",
    "    print(f\"Sentiment Scores: {sentiment_scores}\")\n",
    "    print()"
   ]
  },
  {
   "cell_type": "code",
   "execution_count": 13,
   "id": "185c23cf-d73d-42a4-bcb1-62b9dee706e9",
   "metadata": {},
   "outputs": [
    {
     "name": "stdout",
     "output_type": "stream",
     "text": [
      "Tweet: This movie was so disappointing. I had high hopes, but it turned out to be a complete letdown.\n",
      "Predicted Label: negative\n",
      "\n",
      "Tweet: Just tried the new restaurant in town and it was amazing! The food was delicious and the service was top-notch.\n",
      "Predicted Label: positive\n",
      "\n",
      "Tweet: I can't believe how poorly made this product is. It broke after just a few uses.\n",
      "Predicted Label: negative\n",
      "\n",
      "Tweet: I'm in love with the new skincare routine I started. My skin has never looked better!\n",
      "Predicted Label: positive\n",
      "\n",
      "Tweet: The customer support of this company is a nightmare. They never respond and don't seem to care about their customers.\n",
      "Predicted Label: neutral\n",
      "\n",
      "Tweet: Attended the concert last night and it was an unforgettable experience. The energy of the crowd was electric!\n",
      "Predicted Label: positive\n",
      "\n",
      "Tweet: I regret buying this gadget. It's not user-friendly at all and the instructions are confusing.\n",
      "Predicted Label: negative\n",
      "\n",
      "Tweet: This book was a real page-turner. I couldn't put it down until I finished it!\n",
      "Predicted Label: neutral\n",
      "\n",
      "Tweet: The traffic during rush hour is unbearable. I can't stand being stuck in my car for hours every day.\n",
      "Predicted Label: positive\n",
      "\n",
      "Tweet: I'm so impressed with the quality of the clothes from this brand. Definitely going to buy more!\n",
      "Predicted Label: positive\n",
      "\n",
      "Tweet: The battery life on this new phone is abysmal. I have to charge it multiple times a day.\n",
      "Predicted Label: neutral\n",
      "\n",
      "Tweet: Spent the day at the amusement park and had a blast! The roller coasters were thrilling and the food was great.\n",
      "Predicted Label: positive\n",
      "\n",
      "Tweet: I had such high expectations for this event, but it fell flat. The organization was chaotic and there were many issues.\n",
      "Predicted Label: negative\n",
      "\n",
      "Tweet: Just watched the latest episode of my favorite TV show. It was so intense and left me eagerly waiting for the next one.\n",
      "Predicted Label: positive\n",
      "\n",
      "Tweet: The build quality of this furniture is impressive. It feels sturdy and well-made.\n",
      "Predicted Label: positive\n",
      "\n",
      "Tweet: I'm so frustrated with the constant software bugs on this app. It's practically unusable.\n",
      "Predicted Label: negative\n",
      "\n",
      "Tweet: This hiking trail was a hidden gem. The views were breathtaking and the hike was challenging in a good way.\n",
      "Predicted Label: positive\n",
      "\n",
      "Tweet: I ordered a dress online and it's nothing like the picture. The material is cheap and the sizing is way off.\n",
      "Predicted Label: negative\n",
      "\n",
      "Tweet: The service at this cafe was terrible. The staff was rude and inattentive throughout my visit.\n",
      "Predicted Label: negative\n",
      "\n",
      "Tweet: Just started learning a new instrument and it's been a struggle. Progress is slow, but I'm determined to improve.\n",
      "Predicted Label: positive\n",
      "\n",
      "Tweet: The hotel stay was wonderful. The room was comfortable and the staff went above and beyond to make me feel welcome.\n",
      "Predicted Label: positive\n",
      "\n",
      "Tweet: I can't believe how much money I wasted on this gym membership. I never have the motivation to go.\n",
      "Predicted Label: negative\n",
      "\n",
      "Tweet: The new software update is fantastic. It brings a lot of new features that I've been looking forward to.\n",
      "Predicted Label: positive\n",
      "\n",
      "Tweet: The customer service representative I spoke to was incredibly helpful and resolved my issue quickly.\n",
      "Predicted Label: positive\n",
      "\n",
      "Tweet: This movie was a pleasant surprise. I didn't expect much, but it turned out to be quite entertaining.\n",
      "Predicted Label: positive\n",
      "\n",
      "Tweet: The internet connection has been unreliable lately. It's frustrating when I'm trying to get work done.\n",
      "Predicted Label: negative\n",
      "\n"
     ]
    }
   ],
   "source": [
    "\n",
    "analyzer = SentimentIntensityAnalyzer()\n",
    "\n",
    "threshold_positive = 0.1\n",
    "threshold_negative = -0.1\n",
    "\n",
    "for tweet in unseen_tweets:\n",
    "    sentiment_scores = analyzer.polarity_scores(tweet)\n",
    "    compound_score = sentiment_scores['compound']\n",
    "    \n",
    "    if compound_score > threshold_positive:\n",
    "        label = \"positive\"\n",
    "    elif compound_score < threshold_negative:\n",
    "        label = \"negative\"\n",
    "    else:\n",
    "        label = \"neutral\"\n",
    "    \n",
    "    print(f\"Tweet: {tweet}\")\n",
    "    print(f\"Predicted Label: {label}\")\n",
    "    print()\n"
   ]
  },
  {
   "cell_type": "code",
   "execution_count": null,
   "id": "6ca0d14d-84aa-4189-a733-4b3316a79b5c",
   "metadata": {},
   "outputs": [],
   "source": []
  }
 ],
 "metadata": {
  "kernelspec": {
   "display_name": "Python 3 (ipykernel)",
   "language": "python",
   "name": "python3"
  },
  "language_info": {
   "codemirror_mode": {
    "name": "ipython",
    "version": 3
   },
   "file_extension": ".py",
   "mimetype": "text/x-python",
   "name": "python",
   "nbconvert_exporter": "python",
   "pygments_lexer": "ipython3",
   "version": "3.10.9"
  },
  "widgets": {
   "application/vnd.jupyter.widget-state+json": {
    "state": {},
    "version_major": 2,
    "version_minor": 0
   }
  }
 },
 "nbformat": 4,
 "nbformat_minor": 5
}
