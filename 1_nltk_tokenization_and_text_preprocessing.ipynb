{
 "cells": [
  {
   "cell_type": "code",
   "execution_count": 1,
   "id": "f6e5f197-2b8d-4d75-8a7b-1acfc4f696fd",
   "metadata": {},
   "outputs": [
    {
     "name": "stdout",
     "output_type": "stream",
     "text": [
      "Requirement already satisfied: nltk in c:\\users\\lenovo\\anaconda3\\lib\\site-packages (3.7)\n",
      "Requirement already satisfied: joblib in c:\\users\\lenovo\\anaconda3\\lib\\site-packages (from nltk) (1.3.1)\n",
      "Requirement already satisfied: click in c:\\users\\lenovo\\anaconda3\\lib\\site-packages (from nltk) (8.0.4)\n",
      "Requirement already satisfied: regex>=2021.8.3 in c:\\users\\lenovo\\anaconda3\\lib\\site-packages (from nltk) (2022.7.9)\n",
      "Requirement already satisfied: tqdm in c:\\users\\lenovo\\anaconda3\\lib\\site-packages (from nltk) (4.65.0)\n",
      "Requirement already satisfied: colorama in c:\\users\\lenovo\\appdata\\roaming\\python\\python310\\site-packages (from click->nltk) (0.4.6)\n",
      "Note: you may need to restart the kernel to use updated packages.\n"
     ]
    },
    {
     "name": "stderr",
     "output_type": "stream",
     "text": [
      "WARNING: Ignoring invalid distribution -rotobuf (c:\\users\\lenovo\\anaconda3\\lib\\site-packages)\n",
      "WARNING: Ignoring invalid distribution -rotobuf (c:\\users\\lenovo\\anaconda3\\lib\\site-packages)\n",
      "WARNING: Ignoring invalid distribution -rotobuf (c:\\users\\lenovo\\anaconda3\\lib\\site-packages)\n",
      "WARNING: Ignoring invalid distribution -rotobuf (c:\\users\\lenovo\\anaconda3\\lib\\site-packages)\n",
      "WARNING: Ignoring invalid distribution -rotobuf (c:\\users\\lenovo\\anaconda3\\lib\\site-packages)\n",
      "WARNING: Ignoring invalid distribution -rotobuf (c:\\users\\lenovo\\anaconda3\\lib\\site-packages)\n"
     ]
    }
   ],
   "source": [
    "pip install nltk"
   ]
  },
  {
   "cell_type": "code",
   "execution_count": 2,
   "id": "42a08676-4ac1-4c41-9b73-2400102e58c4",
   "metadata": {},
   "outputs": [],
   "source": [
    "import nltk"
   ]
  },
  {
   "cell_type": "code",
   "execution_count": 3,
   "id": "e9cb05ec-d799-47a9-b549-2fcb5d5e7cb2",
   "metadata": {
    "tags": []
   },
   "outputs": [],
   "source": [
    "# nltk.download(\"all\")"
   ]
  },
  {
   "cell_type": "code",
   "execution_count": 15,
   "id": "670bd029-af2c-4230-adc8-276a0edd1466",
   "metadata": {},
   "outputs": [],
   "source": [
    "from nltk.corpus import stopwords\n",
    "from nltk.tokenize import word_tokenize,sent_tokenize\n",
    "from nltk.stem import PorterStemmer, WordNetLemmatizer\n",
    "import string"
   ]
  },
  {
   "cell_type": "code",
   "execution_count": 5,
   "id": "bb774987-5102-4000-8d68-f079b70a29df",
   "metadata": {},
   "outputs": [
    {
     "name": "stderr",
     "output_type": "stream",
     "text": [
      "[nltk_data] Downloading package punkt to\n",
      "[nltk_data]     C:\\Users\\Lenovo\\AppData\\Roaming\\nltk_data...\n",
      "[nltk_data]   Unzipping tokenizers\\punkt.zip.\n",
      "[nltk_data] Downloading package stopwords to\n",
      "[nltk_data]     C:\\Users\\Lenovo\\AppData\\Roaming\\nltk_data...\n",
      "[nltk_data]   Unzipping corpora\\stopwords.zip.\n",
      "[nltk_data] Downloading package wordnet to\n",
      "[nltk_data]     C:\\Users\\Lenovo\\AppData\\Roaming\\nltk_data...\n",
      "[nltk_data]   Package wordnet is already up-to-date!\n"
     ]
    },
    {
     "data": {
      "text/plain": [
       "True"
      ]
     },
     "execution_count": 5,
     "metadata": {},
     "output_type": "execute_result"
    }
   ],
   "source": [
    "#necessary ntlk resources\n",
    "nltk.download(\"punkt\")\n",
    "nltk.download(\"stopwords\")\n",
    "nltk.download(\"wordnet\")"
   ]
  },
  {
   "cell_type": "code",
   "execution_count": 20,
   "id": "040f4ac6-8e39-422d-8da0-5ece45032f47",
   "metadata": {},
   "outputs": [],
   "source": [
    "#sample text\n",
    "text = \"Tokenization is an important step in Natural Language Processing (NLP). It breaks down text into smaller units called tokens. These tokens can ve words, sentence, or even characters.\""
   ]
  },
  {
   "cell_type": "markdown",
   "id": "24320eb5-944f-4987-9c26-d786341698f2",
   "metadata": {},
   "source": [
    "# Tokenization - Word Tokenization"
   ]
  },
  {
   "cell_type": "code",
   "execution_count": 21,
   "id": "a34b4cd0-6d5e-4a1e-aa12-b5101f766d25",
   "metadata": {},
   "outputs": [
    {
     "name": "stdout",
     "output_type": "stream",
     "text": [
      "Word Tokens:\n",
      "['Tokenization', 'is', 'an', 'important', 'step', 'in', 'Natural', 'Language', 'Processing', '(', 'NLP', ')', '.', 'It', 'breaks', 'down', 'text', 'into', 'smaller', 'units', 'called', 'tokens', '.', 'These', 'tokens', 'can', 've', 'words', ',', 'sentence', ',', 'or', 'even', 'characters', '.']\n",
      "\n",
      "number of Word Tokens are  35\n"
     ]
    }
   ],
   "source": [
    "tokens = word_tokenize(text)\n",
    "print(\"Word Tokens:\")\n",
    "print(tokens)\n",
    "print()\n",
    "print(\"number of Word Tokens are \",len(tokens))"
   ]
  },
  {
   "cell_type": "code",
   "execution_count": 22,
   "id": "8761134a-7a15-4b42-bcbe-003b74793343",
   "metadata": {},
   "outputs": [
    {
     "data": {
      "text/plain": [
       "35"
      ]
     },
     "execution_count": 22,
     "metadata": {},
     "output_type": "execute_result"
    }
   ],
   "source": [
    "len(tokens)"
   ]
  },
  {
   "cell_type": "code",
   "execution_count": 24,
   "id": "0a32bd96-eba6-4367-bb78-c764913e6773",
   "metadata": {},
   "outputs": [
    {
     "name": "stdout",
     "output_type": "stream",
     "text": [
      "Sentence Tokens:\n",
      "['Tokenization is an important step in Natural Language Processing (NLP).', 'It breaks down text into smaller units called tokens.', 'These tokens can ve words, sentence, or even characters.']\n",
      "Number of sentence tokens is 3\n",
      "Number of sentence tokens are 3\n"
     ]
    }
   ],
   "source": [
    "# Tokenization - Sentence Tokenization\n",
    "sentences = sent_tokenize(text)\n",
    "print(\"Sentence Tokens:\")\n",
    "print(sentences)\n",
    "print(\"Number of sentence tokens is\", len(sentences))\n",
    "print(f\"Number of sentence tokens are {len(sentences)}\" )"
   ]
  },
  {
   "cell_type": "markdown",
   "id": "c7f345d7-12bb-4572-a0e8-272d03439b79",
   "metadata": {},
   "source": [
    "# Text Processing - Removing Stop Words"
   ]
  },
  {
   "cell_type": "code",
   "execution_count": 25,
   "id": "68eac2cc-7eee-44d5-aab1-5a82bcc369b9",
   "metadata": {},
   "outputs": [
    {
     "name": "stdout",
     "output_type": "stream",
     "text": [
      "Tokens after removing stop words:\n",
      "['Tokenization', 'important', 'step', 'Natural', 'Language', 'Processing', '(', 'NLP', ')', '.', 'breaks', 'text', 'smaller', 'units', 'called', 'tokens', '.', 'tokens', 'words', ',', 'sentence', ',', 'even', 'characters', '.']\n",
      "\n",
      "number of filtered tokens are  25\n"
     ]
    }
   ],
   "source": [
    "stop_words = set(stopwords.words(\"english\"))\n",
    "filtered_tokens = [token for token in tokens if token.casefold()not in stop_words]\n",
    "print(\"Tokens after removing stop words:\")\n",
    "print(filtered_tokens)\n",
    "print()\n",
    "print(\"number of filtered tokens are \",len(filtered_tokens))"
   ]
  },
  {
   "cell_type": "markdown",
   "id": "bd02f9f3-c784-4caf-a3ed-3ec10c0d103a",
   "metadata": {},
   "source": [
    "# Text Processing - Stemming"
   ]
  },
  {
   "cell_type": "code",
   "execution_count": 26,
   "id": "68c23690-e740-4b11-ae37-449ed9b5660f",
   "metadata": {},
   "outputs": [
    {
     "name": "stdout",
     "output_type": "stream",
     "text": [
      "Stemmed Tokens:\n",
      "['token', 'import', 'step', 'natur', 'languag', 'process', '(', 'nlp', ')', '.', 'break', 'text', 'smaller', 'unit', 'call', 'token', '.', 'token', 'word', ',', 'sentenc', ',', 'even', 'charact', '.']\n",
      "\n",
      "Number of stemmed tokens are 25\n"
     ]
    }
   ],
   "source": [
    "stemmer = PorterStemmer()\n",
    "stemmed_tokens = [stemmer.stem(token) for token in filtered_tokens]\n",
    "print(\"Stemmed Tokens:\")\n",
    "print(stemmed_tokens)\n",
    "print()\n",
    "print(\"Number of stemmed tokens are\",len(stemmed_tokens))"
   ]
  },
  {
   "cell_type": "markdown",
   "id": "09d25e41-8f44-4eaf-a228-932e5cc00fed",
   "metadata": {},
   "source": [
    "# Text Processing - Lemmatization"
   ]
  },
  {
   "cell_type": "code",
   "execution_count": 27,
   "id": "61916daf-cdf7-4222-b87e-cdcc88fd7604",
   "metadata": {},
   "outputs": [
    {
     "name": "stderr",
     "output_type": "stream",
     "text": [
      "[nltk_data] Downloading package omw-1.4 to\n",
      "[nltk_data]     C:\\Users\\Lenovo\\AppData\\Roaming\\nltk_data...\n",
      "[nltk_data]   Package omw-1.4 is already up-to-date!\n"
     ]
    },
    {
     "data": {
      "text/plain": [
       "True"
      ]
     },
     "execution_count": 27,
     "metadata": {},
     "output_type": "execute_result"
    }
   ],
   "source": [
    "nltk.download('omw-1.4')"
   ]
  },
  {
   "cell_type": "code",
   "execution_count": 28,
   "id": "6e2ef861-fec8-4398-a12c-56f23609e1a7",
   "metadata": {},
   "outputs": [
    {
     "name": "stdout",
     "output_type": "stream",
     "text": [
      "Lemmatized Tokens:\n",
      "['Tokenization', 'important', 'step', 'Natural', 'Language', 'Processing', '(', 'NLP', ')', '.', 'break', 'text', 'smaller', 'unit', 'called', 'token', '.', 'token', 'word', ',', 'sentence', ',', 'even', 'character', '.']\n",
      "\n"
     ]
    }
   ],
   "source": [
    "lemmatizer = WordNetLemmatizer()\n",
    "lemmatized_tokens = [lemmatizer.lemmatize(token) for token in filtered_tokens]\n",
    "print(\"Lemmatized Tokens:\")\n",
    "print(lemmatized_tokens)\n",
    "print()"
   ]
  },
  {
   "cell_type": "code",
   "execution_count": 29,
   "id": "6e82d5df-2a14-47e9-a269-0024ce9c599c",
   "metadata": {},
   "outputs": [
    {
     "name": "stdout",
     "output_type": "stream",
     "text": [
      "Tokens after handling special characters:\n",
      "['Tokenization', 'is', 'an', 'important', 'step', 'in', 'Natural', 'Language', 'Processing', 'NLP', 'It', 'breaks', 'down', 'text', 'into', 'smaller', 'units', 'called', 'tokens', 'These', 'tokens', 'can', 've', 'words', 'sentence', 'or', 'even', 'characters']\n"
     ]
    }
   ],
   "source": [
    "# Text Processing - Handling Special Characters\n",
    "special_chars = set(string.punctuation)\n",
    "filtered_tokens = [token for token in tokens if token not in special_chars]\n",
    "print(\"Tokens after handling special characters:\")\n",
    "print(filtered_tokens)"
   ]
  },
  {
   "cell_type": "markdown",
   "id": "4bfe3811-df85-4009-a59e-fe65f9dc84bb",
   "metadata": {},
   "source": [
    "Word Tokens:\n",
    "['Tokenization', 'is', 'an', 'important', 'step', 'in', 'Natural', 'Language', 'Processing', '(', 'NLP', ')', '.', 'It', 'breaks', 'down', 'text', 'into', 'smaller', 'units', 'called', 'tokens', '.', 'These', 'tokens', 'can', 'be', 'words', ',', 'sentences', ',', 'or', 'even', 'characters', '.']\n",
    "\n",
    "Sentences:\n",
    "['Tokenization is an important step in Natural Language Processing (NLP).', 'It breaks down text into smaller units called tokens.', 'These tokens can be words, sentences, or even characters.']\n",
    "\n",
    "Tokens after removing stop words:\n",
    "['Tokenization', 'important', 'step', 'Natural', 'Language', 'Processing', '(', 'NLP', ')', '.', 'breaks', 'text', 'smaller', 'units', 'called', 'tokens', '.', 'tokens', 'words', ',', 'sentences', ',', 'even', 'characters', '.']\n",
    "\n",
    "Stemmed Tokens:\n",
    "['token', 'import', 'step', 'natur', 'languag', 'process', '(', 'nlp', ')', '.', 'break', 'text', 'smaller', 'unit', 'call', 'token', '.', 'token', 'word', ',', 'sentenc', ',', 'even', 'charact', '.']\n",
    "\n",
    "Lemmatized Tokens:\n",
    "['Tokenization', 'important', 'step', 'Natural', 'Language', 'Processing', '(', 'NLP', ')', '.', 'break', 'text', 'smaller', 'unit', 'called', 'token', '.', 'token', 'word', ',', 'sentence', ',', 'even', 'character', '.']\n",
    "\n",
    "Tokens after handling special characters:\n",
    "['Tokenization', 'is', 'an', 'important', 'step', 'in', 'Natural', 'Language', 'Processing', 'NLP', 'It', 'breaks', 'down', 'text', 'into', 'smaller', 'units', 'called', 'tokens', 'These', 'tokens', 'can', 'be', 'words', 'sentences', 'or', 'even', 'characters']"
   ]
  },
  {
   "cell_type": "code",
   "execution_count": null,
   "id": "bb3affbc-d848-45dd-8a73-7d522f071dd6",
   "metadata": {},
   "outputs": [],
   "source": []
  }
 ],
 "metadata": {
  "kernelspec": {
   "display_name": "Python 3 (ipykernel)",
   "language": "python",
   "name": "python3"
  },
  "language_info": {
   "codemirror_mode": {
    "name": "ipython",
    "version": 3
   },
   "file_extension": ".py",
   "mimetype": "text/x-python",
   "name": "python",
   "nbconvert_exporter": "python",
   "pygments_lexer": "ipython3",
   "version": "3.10.9"
  },
  "widgets": {
   "application/vnd.jupyter.widget-state+json": {
    "state": {},
    "version_major": 2,
    "version_minor": 0
   }
  }
 },
 "nbformat": 4,
 "nbformat_minor": 5
}
