{
 "cells": [
  {
   "cell_type": "code",
   "execution_count": 1,
   "id": "e6ffcebc-8754-4906-8f2b-1cb288721dab",
   "metadata": {},
   "outputs": [],
   "source": [
    "import nltk"
   ]
  },
  {
   "cell_type": "code",
   "execution_count": 2,
   "id": "102b6abc-2ea5-4187-a052-81dd13f313bb",
   "metadata": {},
   "outputs": [
    {
     "name": "stderr",
     "output_type": "stream",
     "text": [
      "[nltk_data] Error loading maxtent_ne_chunker: Package\n",
      "[nltk_data]     'maxtent_ne_chunker' not found in index\n",
      "[nltk_data] Downloading package words to\n",
      "[nltk_data]     C:\\Users\\Lenovo\\AppData\\Roaming\\nltk_data...\n",
      "[nltk_data]   Package words is already up-to-date!\n"
     ]
    },
    {
     "data": {
      "text/plain": [
       "True"
      ]
     },
     "execution_count": 2,
     "metadata": {},
     "output_type": "execute_result"
    }
   ],
   "source": [
    "nltk.download(\"maxtent_ne_chunker\")\n",
    "nltk.download(\"words\")"
   ]
  },
  {
   "cell_type": "code",
   "execution_count": 3,
   "id": "518b2fad-0371-4d8a-827a-6fa40f7a38c0",
   "metadata": {},
   "outputs": [],
   "source": [
    "from nltk import ne_chunk\n",
    "from nltk.tokenize import word_tokenize"
   ]
  },
  {
   "cell_type": "code",
   "execution_count": 4,
   "id": "15f1df30-3b10-4449-84e0-def79c2efbb2",
   "metadata": {},
   "outputs": [],
   "source": [
    "text = \"Apple Inc. was founded by Steve Jobs, Steve Wozniak, and Ronald Wayne. Its headquarters are located in Cupertino, California.\""
   ]
  },
  {
   "cell_type": "code",
   "execution_count": 5,
   "id": "b830918e-6e9c-471e-949c-733457ecd5e7",
   "metadata": {},
   "outputs": [
    {
     "data": {
      "text/plain": [
       "['Apple',\n",
       " 'Inc.',\n",
       " 'was',\n",
       " 'founded',\n",
       " 'by',\n",
       " 'Steve',\n",
       " 'Jobs',\n",
       " ',',\n",
       " 'Steve',\n",
       " 'Wozniak',\n",
       " ',',\n",
       " 'and',\n",
       " 'Ronald',\n",
       " 'Wayne',\n",
       " '.',\n",
       " 'Its',\n",
       " 'headquarters',\n",
       " 'are',\n",
       " 'located',\n",
       " 'in',\n",
       " 'Cupertino',\n",
       " ',',\n",
       " 'California',\n",
       " '.']"
      ]
     },
     "execution_count": 5,
     "metadata": {},
     "output_type": "execute_result"
    }
   ],
   "source": [
    "tokens = word_tokenize(text)\n",
    "tokens"
   ]
  },
  {
   "cell_type": "code",
   "execution_count": 13,
   "id": "96c826c5-3c90-40d2-8e1b-b50789b992be",
   "metadata": {},
   "outputs": [
    {
     "name": "stdout",
     "output_type": "stream",
     "text": [
      "Entity: Apple | Type: PERSON\n",
      "Entity: Inc. | Type: ORGANIZATION\n",
      "Entity: Steve Jobs | Type: PERSON\n",
      "Entity: Steve Wozniak | Type: PERSON\n",
      "Entity: Ronald Wayne | Type: PERSON\n",
      "Entity: Cupertino | Type: GPE\n",
      "Entity: California | Type: GPE\n"
     ]
    }
   ],
   "source": [
    "# Apply NER using NTLK'S pre-trained models\n",
    "ner_tags = ne_chunk(nltk.pos_tag(tokens))\n",
    "\n",
    "for chunk in ner_tags:\n",
    "    if hasattr(chunk,\"label\"):\n",
    "        print(f\"Entity: {' '.join(c[0] for c in chunk)} | Type: {chunk.label()}\")"
   ]
  },
  {
   "cell_type": "code",
   "execution_count": null,
   "id": "92fac08c-b827-45fa-926f-20532204687d",
   "metadata": {},
   "outputs": [],
   "source": []
  }
 ],
 "metadata": {
  "kernelspec": {
   "display_name": "Python 3 (ipykernel)",
   "language": "python",
   "name": "python3"
  },
  "language_info": {
   "codemirror_mode": {
    "name": "ipython",
    "version": 3
   },
   "file_extension": ".py",
   "mimetype": "text/x-python",
   "name": "python",
   "nbconvert_exporter": "python",
   "pygments_lexer": "ipython3",
   "version": "3.10.9"
  },
  "widgets": {
   "application/vnd.jupyter.widget-state+json": {
    "state": {},
    "version_major": 2,
    "version_minor": 0
   }
  }
 },
 "nbformat": 4,
 "nbformat_minor": 5
}
