{
 "cells": [
  {
   "cell_type": "code",
   "execution_count": 13,
   "id": "438cb58e-44fc-427d-9ff2-8bec306d7857",
   "metadata": {},
   "outputs": [],
   "source": [
    "import nltk \n",
    "from nltk.tokenize import word_tokenize"
   ]
  },
  {
   "cell_type": "code",
   "execution_count": 14,
   "id": "2ffa79da-d734-4f3e-8c39-f993bac5f180",
   "metadata": {},
   "outputs": [
    {
     "name": "stderr",
     "output_type": "stream",
     "text": [
      "[nltk_data] Downloading package averaged_perceptron_tagger to\n",
      "[nltk_data]     C:\\Users\\Lenovo\\AppData\\Roaming\\nltk_data...\n",
      "[nltk_data]   Package averaged_perceptron_tagger is already up-to-\n",
      "[nltk_data]       date!\n"
     ]
    },
    {
     "data": {
      "text/plain": [
       "True"
      ]
     },
     "execution_count": 14,
     "metadata": {},
     "output_type": "execute_result"
    }
   ],
   "source": [
    "#Download necessary nltk resources\n",
    "nltk.download(\"averaged_perceptron_tagger\")"
   ]
  },
  {
   "cell_type": "code",
   "execution_count": 15,
   "id": "c7df6e78-227e-42c9-9c96-7d010e345748",
   "metadata": {},
   "outputs": [],
   "source": [
    "text = \"NLTK provides powerful tools for performing POS tagging.\""
   ]
  },
  {
   "cell_type": "code",
   "execution_count": 16,
   "id": "b895a049-6585-40fa-adc0-2e37bbddc121",
   "metadata": {},
   "outputs": [],
   "source": [
    "#Tokenize the text into words\n",
    "tokens = word_tokenize(text)"
   ]
  },
  {
   "cell_type": "code",
   "execution_count": 17,
   "id": "88be0cc0-8a12-4e59-9ce2-15c242919c84",
   "metadata": {},
   "outputs": [
    {
     "data": {
      "text/plain": [
       "['NLTK',\n",
       " 'provides',\n",
       " 'powerful',\n",
       " 'tools',\n",
       " 'for',\n",
       " 'performing',\n",
       " 'POS',\n",
       " 'tagging',\n",
       " '.']"
      ]
     },
     "execution_count": 17,
     "metadata": {},
     "output_type": "execute_result"
    }
   ],
   "source": [
    "tokens"
   ]
  },
  {
   "cell_type": "markdown",
   "id": "25639e5b-cb37-462c-8904-bf02016a333c",
   "metadata": {},
   "source": [
    "# Performing POS Tagging"
   ]
  },
  {
   "cell_type": "code",
   "execution_count": 18,
   "id": "f6c57cda-dc63-4b63-a0fc-b7df9a589af0",
   "metadata": {},
   "outputs": [],
   "source": [
    "pos_tags = nltk.pos_tag(tokens)"
   ]
  },
  {
   "cell_type": "code",
   "execution_count": 19,
   "id": "843d2658-106c-483e-a196-2e79a980480f",
   "metadata": {},
   "outputs": [
    {
     "data": {
      "text/plain": [
       "[('NLTK', 'NNP'),\n",
       " ('provides', 'VBZ'),\n",
       " ('powerful', 'JJ'),\n",
       " ('tools', 'NNS'),\n",
       " ('for', 'IN'),\n",
       " ('performing', 'VBG'),\n",
       " ('POS', 'NNP'),\n",
       " ('tagging', 'NN'),\n",
       " ('.', '.')]"
      ]
     },
     "execution_count": 19,
     "metadata": {},
     "output_type": "execute_result"
    }
   ],
   "source": [
    "pos_tags"
   ]
  }
 ],
 "metadata": {
  "kernelspec": {
   "display_name": "Python 3 (ipykernel)",
   "language": "python",
   "name": "python3"
  },
  "language_info": {
   "codemirror_mode": {
    "name": "ipython",
    "version": 3
   },
   "file_extension": ".py",
   "mimetype": "text/x-python",
   "name": "python",
   "nbconvert_exporter": "python",
   "pygments_lexer": "ipython3",
   "version": "3.10.9"
  },
  "widgets": {
   "application/vnd.jupyter.widget-state+json": {
    "state": {},
    "version_major": 2,
    "version_minor": 0
   }
  }
 },
 "nbformat": 4,
 "nbformat_minor": 5
}
